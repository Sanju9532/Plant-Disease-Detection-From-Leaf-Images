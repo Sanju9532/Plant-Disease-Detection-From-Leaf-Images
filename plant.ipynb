{
 "cells": [
  {
   "cell_type": "code",
   "execution_count": 5,
   "id": "5345d941",
   "metadata": {},
   "outputs": [],
   "source": [
    "#importing important libraries\n",
    "import pandas as pd\n",
    "import numpy as np\n",
    "import tensorflow as tf\n",
    "from tensorflow.keras.preprocessing.image import ImageDataGenerator\n",
    "from tensorflow.keras.models import Sequential,Model\n",
    "from tensorflow.keras.utils import to_categorical\n",
    "from tensorflow.keras import layers\n",
    "from tensorflow.keras.layers import Dropout,Dense,Flatten,Input,Conv2D,GlobalAveragePooling2D\n",
    "from tensorflow.keras.callbacks import EarlyStopping\n",
    "from tensorflow.keras.optimizers import Adam,SGD\n",
    "from tensorflow.keras.applications.vgg16 import VGG16\n",
    "from tensorflow.keras.applications import MobileNet,ResNet50\n",
    "from sklearn import metrics\n",
    "import matplotlib.pyplot as plt\n",
    "import seaborn as sns\n",
    "import pickle as pkl\n",
    "import warnings\n",
    "warnings.filterwarnings('ignore')"
   ]
  },
  {
   "cell_type": "code",
   "execution_count": 6,
   "id": "7e29a9dd",
   "metadata": {},
   "outputs": [],
   "source": [
    "#loading the data\n",
    "train_data = \"C:/Users/megal/Downloads/sanju guvi/training\"\n",
    "test_data = \"C:/Users/megal/Downloads/sanju guvi/testing\"\n",
    "val_data = \"C:/Users/megal/Downloads/sanju guvi/validation\""
   ]
  },
  {
   "cell_type": "code",
   "execution_count": 7,
   "id": "318319ee",
   "metadata": {},
   "outputs": [],
   "source": [
    "#seting Imagedata generator for data argumentation and rescaling\n",
    "train = ImageDataGenerator(\n",
    "    rescale = 1./255, #rescale pixel values to [0,1]\n",
    "    rotation_range = 30, #randomly rotate images\n",
    "    width_shift_range = 0.2,  #shift image horizontally\n",
    "    height_shift_range = 0.2,  #shift image vertically\n",
    "    shear_range = 0.2, #shear image \n",
    "    zoom_range = 0.2,  #zooming in or out\n",
    "    horizontal_flip = True,  #randomaly flip images horizontally\n",
    "    fill_mode = 'nearest'   #filling any missing pixels after transformations\n",
    ")"
   ]
  },
  {
   "cell_type": "code",
   "execution_count": 8,
   "id": "4c54f632",
   "metadata": {},
   "outputs": [
    {
     "name": "stdout",
     "output_type": "stream",
     "text": [
      "Found 14440 images belonging to 15 classes.\n"
     ]
    }
   ],
   "source": [
    "#creating a generator for the training data\n",
    "train_generators = train.flow_from_directory(\n",
    "    train_data,\n",
    "    target_size = (150,150),\n",
    "    batch_size = 32,\n",
    "    class_mode = 'categorical' \n",
    ")"
   ]
  },
  {
   "cell_type": "code",
   "execution_count": 9,
   "id": "ec02d08b",
   "metadata": {},
   "outputs": [
    {
     "name": "stdout",
     "output_type": "stream",
     "text": [
      "Found 3101 images belonging to 15 classes.\n"
     ]
    }
   ],
   "source": [
    "#creating a generator for the testing data\n",
    "test_generators = train.flow_from_directory(\n",
    "    test_data,\n",
    "    target_size = (150,150),\n",
    "    batch_size = 32,\n",
    "    class_mode = 'categorical'\n",
    ")"
   ]
  },
  {
   "cell_type": "code",
   "execution_count": 10,
   "id": "13f44cf7",
   "metadata": {},
   "outputs": [
    {
     "name": "stdout",
     "output_type": "stream",
     "text": [
      "Found 3097 images belonging to 15 classes.\n"
     ]
    }
   ],
   "source": [
    "#creating a generator for validation data\n",
    "val_generators = train.flow_from_directory(\n",
    "    val_data,\n",
    "    target_size = (150,150),\n",
    "    batch_size = 32,\n",
    "    class_mode = 'categorical'\n",
    ")"
   ]
  },
  {
   "cell_type": "code",
   "execution_count": 13,
   "id": "2030109e",
   "metadata": {},
   "outputs": [
    {
     "name": "stdout",
     "output_type": "stream",
     "text": [
      "Class Label :\n",
      "{'Pepper__bell___Bacterial_spot': 0, 'Pepper__bell___healthy': 1, 'Potato___Early_blight': 2, 'Potato___Late_blight': 3, 'Potato___healthy': 4, 'Tomato_Bacterial_spot': 5, 'Tomato_Early_blight': 6, 'Tomato_Late_blight': 7, 'Tomato_Leaf_Mold': 8, 'Tomato_Septoria_leaf_spot': 9, 'Tomato_Spider_mites_Two_spotted_spider_mite': 10, 'Tomato__Target_Spot': 11, 'Tomato__Tomato_YellowLeaf__Curl_Virus': 12, 'Tomato__Tomato_mosaic_virus': 13, 'Tomato_healthy': 14}\n"
     ]
    }
   ],
   "source": [
    "#checking the class label\n",
    "print(f'Class Label :\\n{train_generators.class_indices}')"
   ]
  },
  {
   "cell_type": "code",
   "execution_count": 11,
   "id": "6bd23d85",
   "metadata": {},
   "outputs": [
    {
     "data": {
      "text/plain": [
       "(150, 150, 3)"
      ]
     },
     "execution_count": 11,
     "metadata": {},
     "output_type": "execute_result"
    }
   ],
   "source": [
    "#the shape of the image\n",
    "train_generators.image_shape"
   ]
  },
  {
   "cell_type": "code",
   "execution_count": 12,
   "id": "31bd81dc",
   "metadata": {},
   "outputs": [],
   "source": [
    "#building cnn model\n",
    "model = Sequential([\n",
    "    #convolutional layer + pooling layer\n",
    "    layers.Conv2D(32,(3,3),activation='relu',input_shape = (150,150,3)),\n",
    "    layers.MaxPooling2D((2,2)),\n",
    "\n",
    "    layers.Conv2D(64,(3,3),activation = 'relu'),\n",
    "    layers.MaxPooling2D((2,2)),\n",
    "\n",
    "    layers.Conv2D(128,(3,3),activation='relu'),\n",
    "    layers.MaxPooling2D((2,2)),\n",
    "\n",
    "    #flatten the 3D tensor into 1D\n",
    "    layers.Flatten(),\n",
    "\n",
    "    #fully connected (Dense) Layer\n",
    "    layers.Dense(128,activation = 'relu'),\n",
    "\n",
    "    #output layer\n",
    "    layers.Dense(15,activation = 'softmax')\n",
    "])"
   ]
  },
  {
   "cell_type": "code",
   "execution_count": 13,
   "id": "7454909d",
   "metadata": {},
   "outputs": [],
   "source": [
    "#compiling the model\n",
    "model.compile(\n",
    "    optimizer = 'adam',\n",
    "    loss = 'categorical_crossentropy',\n",
    "    metrics = ['accuracy']\n",
    ")"
   ]
  },
  {
   "cell_type": "code",
   "execution_count": 19,
   "id": "8e3868ec",
   "metadata": {},
   "outputs": [
    {
     "data": {
      "text/html": [
       "<pre style=\"white-space:pre;overflow-x:auto;line-height:normal;font-family:Menlo,'DejaVu Sans Mono',consolas,'Courier New',monospace\"><span style=\"font-weight: bold\">Model: \"sequential\"</span>\n",
       "</pre>\n"
      ],
      "text/plain": [
       "\u001b[1mModel: \"sequential\"\u001b[0m\n"
      ]
     },
     "metadata": {},
     "output_type": "display_data"
    },
    {
     "data": {
      "text/html": [
       "<pre style=\"white-space:pre;overflow-x:auto;line-height:normal;font-family:Menlo,'DejaVu Sans Mono',consolas,'Courier New',monospace\">┏━━━━━━━━━━━━━━━━━━━━━━━━━━━━━━━━━┳━━━━━━━━━━━━━━━━━━━━━━━━┳━━━━━━━━━━━━━━━┓\n",
       "┃<span style=\"font-weight: bold\"> Layer (type)                    </span>┃<span style=\"font-weight: bold\"> Output Shape           </span>┃<span style=\"font-weight: bold\">       Param # </span>┃\n",
       "┡━━━━━━━━━━━━━━━━━━━━━━━━━━━━━━━━━╇━━━━━━━━━━━━━━━━━━━━━━━━╇━━━━━━━━━━━━━━━┩\n",
       "│ conv2d_1 (<span style=\"color: #0087ff; text-decoration-color: #0087ff\">Conv2D</span>)               │ (<span style=\"color: #00d7ff; text-decoration-color: #00d7ff\">None</span>, <span style=\"color: #00af00; text-decoration-color: #00af00\">148</span>, <span style=\"color: #00af00; text-decoration-color: #00af00\">148</span>, <span style=\"color: #00af00; text-decoration-color: #00af00\">32</span>)   │           <span style=\"color: #00af00; text-decoration-color: #00af00\">896</span> │\n",
       "├─────────────────────────────────┼────────────────────────┼───────────────┤\n",
       "│ max_pooling2d (<span style=\"color: #0087ff; text-decoration-color: #0087ff\">MaxPooling2D</span>)    │ (<span style=\"color: #00d7ff; text-decoration-color: #00d7ff\">None</span>, <span style=\"color: #00af00; text-decoration-color: #00af00\">74</span>, <span style=\"color: #00af00; text-decoration-color: #00af00\">74</span>, <span style=\"color: #00af00; text-decoration-color: #00af00\">32</span>)     │             <span style=\"color: #00af00; text-decoration-color: #00af00\">0</span> │\n",
       "├─────────────────────────────────┼────────────────────────┼───────────────┤\n",
       "│ conv2d_2 (<span style=\"color: #0087ff; text-decoration-color: #0087ff\">Conv2D</span>)               │ (<span style=\"color: #00d7ff; text-decoration-color: #00d7ff\">None</span>, <span style=\"color: #00af00; text-decoration-color: #00af00\">72</span>, <span style=\"color: #00af00; text-decoration-color: #00af00\">72</span>, <span style=\"color: #00af00; text-decoration-color: #00af00\">64</span>)     │        <span style=\"color: #00af00; text-decoration-color: #00af00\">18,496</span> │\n",
       "├─────────────────────────────────┼────────────────────────┼───────────────┤\n",
       "│ max_pooling2d_1 (<span style=\"color: #0087ff; text-decoration-color: #0087ff\">MaxPooling2D</span>)  │ (<span style=\"color: #00d7ff; text-decoration-color: #00d7ff\">None</span>, <span style=\"color: #00af00; text-decoration-color: #00af00\">36</span>, <span style=\"color: #00af00; text-decoration-color: #00af00\">36</span>, <span style=\"color: #00af00; text-decoration-color: #00af00\">64</span>)     │             <span style=\"color: #00af00; text-decoration-color: #00af00\">0</span> │\n",
       "├─────────────────────────────────┼────────────────────────┼───────────────┤\n",
       "│ conv2d_3 (<span style=\"color: #0087ff; text-decoration-color: #0087ff\">Conv2D</span>)               │ (<span style=\"color: #00d7ff; text-decoration-color: #00d7ff\">None</span>, <span style=\"color: #00af00; text-decoration-color: #00af00\">34</span>, <span style=\"color: #00af00; text-decoration-color: #00af00\">34</span>, <span style=\"color: #00af00; text-decoration-color: #00af00\">128</span>)    │        <span style=\"color: #00af00; text-decoration-color: #00af00\">73,856</span> │\n",
       "├─────────────────────────────────┼────────────────────────┼───────────────┤\n",
       "│ max_pooling2d_2 (<span style=\"color: #0087ff; text-decoration-color: #0087ff\">MaxPooling2D</span>)  │ (<span style=\"color: #00d7ff; text-decoration-color: #00d7ff\">None</span>, <span style=\"color: #00af00; text-decoration-color: #00af00\">17</span>, <span style=\"color: #00af00; text-decoration-color: #00af00\">17</span>, <span style=\"color: #00af00; text-decoration-color: #00af00\">128</span>)    │             <span style=\"color: #00af00; text-decoration-color: #00af00\">0</span> │\n",
       "├─────────────────────────────────┼────────────────────────┼───────────────┤\n",
       "│ flatten (<span style=\"color: #0087ff; text-decoration-color: #0087ff\">Flatten</span>)               │ (<span style=\"color: #00d7ff; text-decoration-color: #00d7ff\">None</span>, <span style=\"color: #00af00; text-decoration-color: #00af00\">36992</span>)          │             <span style=\"color: #00af00; text-decoration-color: #00af00\">0</span> │\n",
       "├─────────────────────────────────┼────────────────────────┼───────────────┤\n",
       "│ dense (<span style=\"color: #0087ff; text-decoration-color: #0087ff\">Dense</span>)                   │ (<span style=\"color: #00d7ff; text-decoration-color: #00d7ff\">None</span>, <span style=\"color: #00af00; text-decoration-color: #00af00\">128</span>)            │     <span style=\"color: #00af00; text-decoration-color: #00af00\">4,735,104</span> │\n",
       "├─────────────────────────────────┼────────────────────────┼───────────────┤\n",
       "│ dense_1 (<span style=\"color: #0087ff; text-decoration-color: #0087ff\">Dense</span>)                 │ (<span style=\"color: #00d7ff; text-decoration-color: #00d7ff\">None</span>, <span style=\"color: #00af00; text-decoration-color: #00af00\">15</span>)             │         <span style=\"color: #00af00; text-decoration-color: #00af00\">1,935</span> │\n",
       "└─────────────────────────────────┴────────────────────────┴───────────────┘\n",
       "</pre>\n"
      ],
      "text/plain": [
       "┏━━━━━━━━━━━━━━━━━━━━━━━━━━━━━━━━━┳━━━━━━━━━━━━━━━━━━━━━━━━┳━━━━━━━━━━━━━━━┓\n",
       "┃\u001b[1m \u001b[0m\u001b[1mLayer (type)                   \u001b[0m\u001b[1m \u001b[0m┃\u001b[1m \u001b[0m\u001b[1mOutput Shape          \u001b[0m\u001b[1m \u001b[0m┃\u001b[1m \u001b[0m\u001b[1m      Param #\u001b[0m\u001b[1m \u001b[0m┃\n",
       "┡━━━━━━━━━━━━━━━━━━━━━━━━━━━━━━━━━╇━━━━━━━━━━━━━━━━━━━━━━━━╇━━━━━━━━━━━━━━━┩\n",
       "│ conv2d_1 (\u001b[38;5;33mConv2D\u001b[0m)               │ (\u001b[38;5;45mNone\u001b[0m, \u001b[38;5;34m148\u001b[0m, \u001b[38;5;34m148\u001b[0m, \u001b[38;5;34m32\u001b[0m)   │           \u001b[38;5;34m896\u001b[0m │\n",
       "├─────────────────────────────────┼────────────────────────┼───────────────┤\n",
       "│ max_pooling2d (\u001b[38;5;33mMaxPooling2D\u001b[0m)    │ (\u001b[38;5;45mNone\u001b[0m, \u001b[38;5;34m74\u001b[0m, \u001b[38;5;34m74\u001b[0m, \u001b[38;5;34m32\u001b[0m)     │             \u001b[38;5;34m0\u001b[0m │\n",
       "├─────────────────────────────────┼────────────────────────┼───────────────┤\n",
       "│ conv2d_2 (\u001b[38;5;33mConv2D\u001b[0m)               │ (\u001b[38;5;45mNone\u001b[0m, \u001b[38;5;34m72\u001b[0m, \u001b[38;5;34m72\u001b[0m, \u001b[38;5;34m64\u001b[0m)     │        \u001b[38;5;34m18,496\u001b[0m │\n",
       "├─────────────────────────────────┼────────────────────────┼───────────────┤\n",
       "│ max_pooling2d_1 (\u001b[38;5;33mMaxPooling2D\u001b[0m)  │ (\u001b[38;5;45mNone\u001b[0m, \u001b[38;5;34m36\u001b[0m, \u001b[38;5;34m36\u001b[0m, \u001b[38;5;34m64\u001b[0m)     │             \u001b[38;5;34m0\u001b[0m │\n",
       "├─────────────────────────────────┼────────────────────────┼───────────────┤\n",
       "│ conv2d_3 (\u001b[38;5;33mConv2D\u001b[0m)               │ (\u001b[38;5;45mNone\u001b[0m, \u001b[38;5;34m34\u001b[0m, \u001b[38;5;34m34\u001b[0m, \u001b[38;5;34m128\u001b[0m)    │        \u001b[38;5;34m73,856\u001b[0m │\n",
       "├─────────────────────────────────┼────────────────────────┼───────────────┤\n",
       "│ max_pooling2d_2 (\u001b[38;5;33mMaxPooling2D\u001b[0m)  │ (\u001b[38;5;45mNone\u001b[0m, \u001b[38;5;34m17\u001b[0m, \u001b[38;5;34m17\u001b[0m, \u001b[38;5;34m128\u001b[0m)    │             \u001b[38;5;34m0\u001b[0m │\n",
       "├─────────────────────────────────┼────────────────────────┼───────────────┤\n",
       "│ flatten (\u001b[38;5;33mFlatten\u001b[0m)               │ (\u001b[38;5;45mNone\u001b[0m, \u001b[38;5;34m36992\u001b[0m)          │             \u001b[38;5;34m0\u001b[0m │\n",
       "├─────────────────────────────────┼────────────────────────┼───────────────┤\n",
       "│ dense (\u001b[38;5;33mDense\u001b[0m)                   │ (\u001b[38;5;45mNone\u001b[0m, \u001b[38;5;34m128\u001b[0m)            │     \u001b[38;5;34m4,735,104\u001b[0m │\n",
       "├─────────────────────────────────┼────────────────────────┼───────────────┤\n",
       "│ dense_1 (\u001b[38;5;33mDense\u001b[0m)                 │ (\u001b[38;5;45mNone\u001b[0m, \u001b[38;5;34m15\u001b[0m)             │         \u001b[38;5;34m1,935\u001b[0m │\n",
       "└─────────────────────────────────┴────────────────────────┴───────────────┘\n"
      ]
     },
     "metadata": {},
     "output_type": "display_data"
    },
    {
     "data": {
      "text/html": [
       "<pre style=\"white-space:pre;overflow-x:auto;line-height:normal;font-family:Menlo,'DejaVu Sans Mono',consolas,'Courier New',monospace\"><span style=\"font-weight: bold\"> Total params: </span><span style=\"color: #00af00; text-decoration-color: #00af00\">4,830,287</span> (18.43 MB)\n",
       "</pre>\n"
      ],
      "text/plain": [
       "\u001b[1m Total params: \u001b[0m\u001b[38;5;34m4,830,287\u001b[0m (18.43 MB)\n"
      ]
     },
     "metadata": {},
     "output_type": "display_data"
    },
    {
     "data": {
      "text/html": [
       "<pre style=\"white-space:pre;overflow-x:auto;line-height:normal;font-family:Menlo,'DejaVu Sans Mono',consolas,'Courier New',monospace\"><span style=\"font-weight: bold\"> Trainable params: </span><span style=\"color: #00af00; text-decoration-color: #00af00\">4,830,287</span> (18.43 MB)\n",
       "</pre>\n"
      ],
      "text/plain": [
       "\u001b[1m Trainable params: \u001b[0m\u001b[38;5;34m4,830,287\u001b[0m (18.43 MB)\n"
      ]
     },
     "metadata": {},
     "output_type": "display_data"
    },
    {
     "data": {
      "text/html": [
       "<pre style=\"white-space:pre;overflow-x:auto;line-height:normal;font-family:Menlo,'DejaVu Sans Mono',consolas,'Courier New',monospace\"><span style=\"font-weight: bold\"> Non-trainable params: </span><span style=\"color: #00af00; text-decoration-color: #00af00\">0</span> (0.00 B)\n",
       "</pre>\n"
      ],
      "text/plain": [
       "\u001b[1m Non-trainable params: \u001b[0m\u001b[38;5;34m0\u001b[0m (0.00 B)\n"
      ]
     },
     "metadata": {},
     "output_type": "display_data"
    }
   ],
   "source": [
    "model.summary()"
   ]
  },
  {
   "cell_type": "code",
   "execution_count": 15,
   "id": "89aff9de",
   "metadata": {},
   "outputs": [
    {
     "name": "stdout",
     "output_type": "stream",
     "text": [
      "Epoch 1/10\n",
      "452/452 - 226s - 500ms/step - accuracy: 0.6920 - loss: 0.9130 - val_accuracy: 0.7759 - val_loss: 0.6742\n",
      "Epoch 2/10\n",
      "452/452 - 292s - 647ms/step - accuracy: 0.7555 - loss: 0.7225 - val_accuracy: 0.8166 - val_loss: 0.5452\n",
      "Epoch 3/10\n",
      "452/452 - 275s - 609ms/step - accuracy: 0.8042 - loss: 0.5702 - val_accuracy: 0.8182 - val_loss: 0.5358\n",
      "Epoch 4/10\n",
      "452/452 - 271s - 598ms/step - accuracy: 0.8274 - loss: 0.5017 - val_accuracy: 0.8476 - val_loss: 0.4777\n",
      "Epoch 5/10\n",
      "452/452 - 269s - 595ms/step - accuracy: 0.8512 - loss: 0.4375 - val_accuracy: 0.8741 - val_loss: 0.3928\n",
      "Epoch 6/10\n",
      "452/452 - 268s - 593ms/step - accuracy: 0.8496 - loss: 0.4273 - val_accuracy: 0.8521 - val_loss: 0.4321\n",
      "Epoch 7/10\n",
      "452/452 - 266s - 590ms/step - accuracy: 0.8778 - loss: 0.3578 - val_accuracy: 0.8851 - val_loss: 0.3581\n",
      "Epoch 8/10\n",
      "452/452 - 268s - 594ms/step - accuracy: 0.8829 - loss: 0.3417 - val_accuracy: 0.8741 - val_loss: 0.3854\n",
      "Epoch 9/10\n",
      "452/452 - 269s - 596ms/step - accuracy: 0.8931 - loss: 0.3157 - val_accuracy: 0.9112 - val_loss: 0.3008\n",
      "Epoch 10/10\n",
      "452/452 - 294s - 650ms/step - accuracy: 0.9003 - loss: 0.2894 - val_accuracy: 0.8857 - val_loss: 0.3672\n"
     ]
    }
   ],
   "source": [
    "#training the model\n",
    "early_stopping = EarlyStopping(monitor = 'val_loss',patience = 3,restore_best_weights = True)\n",
    "\n",
    "#fitting the model\n",
    "history_cnn = model.fit(\n",
    "    train_generators,\n",
    "    epochs = 10,\n",
    "    validation_data = val_generators,\n",
    "    verbose = 2\n",
    ")"
   ]
  },
  {
   "cell_type": "code",
   "execution_count": 16,
   "id": "86f3343b",
   "metadata": {},
   "outputs": [
    {
     "data": {
      "text/plain": [
       "Text(0.5, 1.0, 'loss')"
      ]
     },
     "execution_count": 16,
     "metadata": {},
     "output_type": "execute_result"
    },
    {
     "data": {
      "image/png": "[encoded data removed]",
      "text/plain": [
       "<Figure size 1200x400 with 2 Axes>"
      ]
     },
     "metadata": {},
     "output_type": "display_data"
    }
   ],
   "source": [
    "#ploting the training and validation rcall and loss\n",
    "plt.figure(figsize = (12,4))\n",
    "\n",
    "#accuracy plot\n",
    "plt.subplot(1,2,1)\n",
    "plt.plot(history_cnn.history['accuracy'],label = 'accuracy')\n",
    "plt.plot(history_cnn.history['val_accuracy'],label = 'val_accuracy')\n",
    "plt.xlabel('Epoch')\n",
    "plt.ylabel('Recall')\n",
    "plt.ylim([0,1])\n",
    "plt.legend(loc = 'lower right')\n",
    "plt.title('Recall')\n",
    "\n",
    "plt.subplot(1,2,2)\n",
    "plt.plot(history_cnn.history['loss'],label = 'loss')\n",
    "plt.plot(history_cnn.history['val_loss'],label = 'val_loss')\n",
    "plt.xlabel('Epoch')\n",
    "plt.ylabel('loss')\n",
    "plt.ylim([0,1])\n",
    "plt.legend(loc = 'lower right')\n",
    "plt.title('loss')\n"
   ]
  },
  {
   "cell_type": "code",
   "execution_count": 17,
   "id": "b86bb099",
   "metadata": {},
   "outputs": [],
   "source": [
    "with open('plant_cnn.pkl','wb') as file:\n",
    "    pkl.dump(model,file)"
   ]
  },
  {
   "cell_type": "code",
   "execution_count": 18,
   "id": "83425fc0",
   "metadata": {},
   "outputs": [],
   "source": [
    "with open('plant_cnn.pkl','rb') as file:\n",
    "    cnn = pkl.load(file)"
   ]
  },
  {
   "cell_type": "code",
   "execution_count": 19,
   "id": "c00f3420",
   "metadata": {},
   "outputs": [
    {
     "name": "stdout",
     "output_type": "stream",
     "text": [
      "97/97 - 15s - 158ms/step - accuracy: 0.8817 - loss: 0.3548\n"
     ]
    }
   ],
   "source": [
    "#loading the model\n",
    "test_loss,test_accuracy = cnn.evaluate(test_generators,verbose = 2)"
   ]
  },
  {
   "cell_type": "code",
   "execution_count": null,
   "id": "5c60be02",
   "metadata": {},
   "outputs": [],
   "source": [
    "'''\n",
    "training accuracy as 0.90 and testing accuracy as 0.88 \n",
    "training loss as 0.289 and testing accuracy as 0.354\n",
    "The model does not strongly indicate overfitting, as the training and testing accuracies are close, \n",
    "and the loss values are not drastically different.\n",
    "'''"
   ]
  },
  {
   "cell_type": "code",
   "execution_count": 38,
   "id": "56021dac",
   "metadata": {},
   "outputs": [],
   "source": [
    "#loading the vgg16 model with neural network and without the last fully connected layers\n",
    "base_model = VGG16(weights = 'imagenet',include_top = False,input_shape = (150,150,3))"
   ]
  },
  {
   "cell_type": "code",
   "execution_count": 39,
   "id": "461531fe",
   "metadata": {},
   "outputs": [],
   "source": [
    "#freeze the base model layers\n",
    "base_model.trainable = False"
   ]
  },
  {
   "cell_type": "code",
   "execution_count": 47,
   "id": "577d4b0f",
   "metadata": {},
   "outputs": [],
   "source": [
    "#adding custom layers\n",
    "inputs = Input(shape = (150,150,3))\n",
    "x = base_model(inputs,training = False)\n",
    "x = Flatten()(x)\n",
    "x = Dense(256,activation = 'relu')(x)\n",
    "x = Dropout(0.5)(x)\n",
    "\n",
    "outputs = Dense(15,activation = 'softmax')(x)"
   ]
  },
  {
   "cell_type": "code",
   "execution_count": 48,
   "id": "7d86c91d",
   "metadata": {},
   "outputs": [],
   "source": [
    "#model \n",
    "model = Model(inputs,outputs)"
   ]
  },
  {
   "cell_type": "code",
   "execution_count": 51,
   "id": "79527056",
   "metadata": {},
   "outputs": [],
   "source": [
    "#compiling the model\n",
    "model.compile(optimizer = SGD(learning_rate = 0.01),\n",
    "              loss = 'categorical_crossentropy',\n",
    "              metrics = ['accuracy']\n",
    ")"
   ]
  },
  {
   "cell_type": "code",
   "execution_count": 52,
   "id": "61354164",
   "metadata": {},
   "outputs": [
    {
     "name": "stdout",
     "output_type": "stream",
     "text": [
      "Epoch 1/10\n",
      "\u001b[1m452/452\u001b[0m \u001b[32m━━━━━━━━━━━━━━━━━━━━\u001b[0m\u001b[37m\u001b[0m \u001b[1m1447s\u001b[0m 3s/step - accuracy: 0.5485 - loss: 1.3597 - val_accuracy: 0.6648 - val_loss: 1.0296\n",
      "Epoch 2/10\n",
      "\u001b[1m452/452\u001b[0m \u001b[32m━━━━━━━━━━━━━━━━━━━━\u001b[0m\u001b[37m\u001b[0m \u001b[1m1655s\u001b[0m 4s/step - accuracy: 0.5772 - loss: 1.2726 - val_accuracy: 0.6642 - val_loss: 1.0133\n",
      "Epoch 3/10\n",
      "\u001b[1m452/452\u001b[0m \u001b[32m━━━━━━━━━━━━━━━━━━━━\u001b[0m\u001b[37m\u001b[0m \u001b[1m1446s\u001b[0m 3s/step - accuracy: 0.5971 - loss: 1.2237 - val_accuracy: 0.6942 - val_loss: 0.9589\n",
      "Epoch 4/10\n",
      "\u001b[1m452/452\u001b[0m \u001b[32m━━━━━━━━━━━━━━━━━━━━\u001b[0m\u001b[37m\u001b[0m \u001b[1m1616s\u001b[0m 4s/step - accuracy: 0.6031 - loss: 1.1678 - val_accuracy: 0.6952 - val_loss: 0.9018\n",
      "Epoch 5/10\n",
      "\u001b[1m452/452\u001b[0m \u001b[32m━━━━━━━━━━━━━━━━━━━━\u001b[0m\u001b[37m\u001b[0m \u001b[1m1396s\u001b[0m 3s/step - accuracy: 0.6218 - loss: 1.1351 - val_accuracy: 0.6913 - val_loss: 0.9200\n",
      "Epoch 6/10\n",
      "\u001b[1m452/452\u001b[0m \u001b[32m━━━━━━━━━━━━━━━━━━━━\u001b[0m\u001b[37m\u001b[0m \u001b[1m1438s\u001b[0m 3s/step - accuracy: 0.6312 - loss: 1.0915 - val_accuracy: 0.6987 - val_loss: 0.8775\n",
      "Epoch 7/10\n",
      "\u001b[1m452/452\u001b[0m \u001b[32m━━━━━━━━━━━━━━━━━━━━\u001b[0m\u001b[37m\u001b[0m \u001b[1m1364s\u001b[0m 3s/step - accuracy: 0.6525 - loss: 1.0477 - val_accuracy: 0.7217 - val_loss: 0.8446\n",
      "Epoch 8/10\n",
      "\u001b[1m452/452\u001b[0m \u001b[32m━━━━━━━━━━━━━━━━━━━━\u001b[0m\u001b[37m\u001b[0m \u001b[1m1331s\u001b[0m 3s/step - accuracy: 0.6445 - loss: 1.0562 - val_accuracy: 0.7304 - val_loss: 0.8230\n",
      "Epoch 9/10\n",
      "\u001b[1m452/452\u001b[0m \u001b[32m━━━━━━━━━━━━━━━━━━━━\u001b[0m\u001b[37m\u001b[0m \u001b[1m1339s\u001b[0m 3s/step - accuracy: 0.6544 - loss: 1.0379 - val_accuracy: 0.7443 - val_loss: 0.7763\n",
      "Epoch 10/10\n",
      "\u001b[1m452/452\u001b[0m \u001b[32m━━━━━━━━━━━━━━━━━━━━\u001b[0m\u001b[37m\u001b[0m \u001b[1m1347s\u001b[0m 3s/step - accuracy: 0.6780 - loss: 0.9793 - val_accuracy: 0.7462 - val_loss: 0.7838\n"
     ]
    }
   ],
   "source": [
    "#fitting the model\n",
    "history_vgg = model.fit(\n",
    "    train_generators,\n",
    "    epochs = 10,\n",
    "    batch_size = 32,\n",
    "    validation_data = val_generators\n",
    ")"
   ]
  },
  {
   "cell_type": "code",
   "execution_count": 56,
   "id": "b8ac33e9",
   "metadata": {},
   "outputs": [
    {
     "data": {
      "text/plain": [
       "<matplotlib.legend.Legend at 0x171712e5360>"
      ]
     },
     "execution_count": 56,
     "metadata": {},
     "output_type": "execute_result"
    },
    {
     "data": {
      "image/png": "[encoded data removed]",
      "text/plain": [
       "<Figure size 1200x400 with 2 Axes>"
      ]
     },
     "metadata": {},
     "output_type": "display_data"
    }
   ],
   "source": [
    "#ploting the training and validation recall and loss\n",
    "plt.figure(figsize = (12,4))\n",
    "\n",
    "#accuracy plot\n",
    "plt.subplot(1,2,1)\n",
    "plt.plot(history_vgg.history['accuracy'],label = 'accuracy')\n",
    "plt.plot(history_vgg.history['val_accuracy'],label = 'val_accuracy')\n",
    "plt.title('Recall')\n",
    "plt.xlabel\n",
    "plt.ylabel('Recall')\n",
    "plt.ylim([0,1])\n",
    "plt.legend(loc = 'lower right')\n",
    "\n",
    "\n",
    "plt.subplot(1,2,2)\n",
    "plt.plot(history_vgg.history['loss'],label = 'loss')\n",
    "plt.plot(history_vgg.history['val_loss'],label = 'loss')\n",
    "plt.title('Loss')\n",
    "plt.xlabel('Epoch')\n",
    "plt.ylabel('Loss')\n",
    "plt.ylim([0,1])\n",
    "plt.legend(loc = 'lower right')"
   ]
  },
  {
   "cell_type": "code",
   "execution_count": 57,
   "id": "270ab106",
   "metadata": {},
   "outputs": [],
   "source": [
    "#saving the model\n",
    "with open('plant_vgg.pkl','wb') as file:\n",
    "    pkl.dump(model,file)"
   ]
  },
  {
   "cell_type": "code",
   "execution_count": 20,
   "id": "9c3786a6",
   "metadata": {},
   "outputs": [],
   "source": [
    "#using the model\n",
    "with open('plant_vgg.pkl','rb') as file:\n",
    "    vgg = pkl.load(file)"
   ]
  },
  {
   "cell_type": "code",
   "execution_count": 21,
   "id": "ec86aba4",
   "metadata": {},
   "outputs": [
    {
     "name": "stdout",
     "output_type": "stream",
     "text": [
      "97/97 - 168s - 2s/step - accuracy: 0.7459 - loss: 0.7916\n"
     ]
    }
   ],
   "source": [
    "test_loss,test_accuracy = vgg.evaluate(test_generators,verbose = 2)"
   ]
  },
  {
   "cell_type": "code",
   "execution_count": null,
   "id": "b015266b",
   "metadata": {},
   "outputs": [
    {
     "data": {
      "text/plain": [
       "''"
      ]
     },
     "execution_count": 12,
     "metadata": {},
     "output_type": "execute_result"
    }
   ],
   "source": [
    "'''\n",
    "training accuracy as  0.6780 and testing accuracy as 0.7459,\n",
    "training loss as 0.9793 and testing loss as 0.7916\n",
    "The model shows signs of underfitting, as the training accuracy (0.6780) is significantly \n",
    "lower than the testing accuracy (0.7459), and both losses indicate room for improvement.\n",
    "'''"
   ]
  },
  {
   "cell_type": "code",
   "execution_count": 55,
   "id": "2ce59a3f",
   "metadata": {},
   "outputs": [],
   "source": [
    "#creating the resnet50 model\n",
    "resnet_model = Sequential()\n",
    "resnet = ResNet50(\n",
    "    include_top = False,\n",
    "    input_shape = (150,150,3),\n",
    "    pooling = 'max',\n",
    "    weights = 'imagenet'\n",
    ")"
   ]
  },
  {
   "cell_type": "code",
   "execution_count": 56,
   "id": "ef971d1e",
   "metadata": {},
   "outputs": [],
   "source": [
    "#Freezeing the layers of the pretrained model\n",
    "for layer in resnet.layers:\n",
    "    layer.trainable = False\n",
    "\n",
    "resnet_model.add(resnet)\n"
   ]
  },
  {
   "cell_type": "code",
   "execution_count": 57,
   "id": "90966dfb",
   "metadata": {},
   "outputs": [],
   "source": [
    "resnet_model.add(layers.Flatten())\n",
    "resnet_model.add(layers.Dense(512,activation = 'relu'))\n",
    "resnet_model.add(layers.Dense(15,activation = 'softmax'))\n",
    "\n",
    "#compiling the model\n",
    "resnet_model.compile(optimizer = Adam(learning_rate = 0.001),loss = 'categorical_crossentropy',metrics = ['accuracy'])"
   ]
  },
  {
   "cell_type": "code",
   "execution_count": 58,
   "metadata": {},
   "outputs": [
    {
     "name": "stdout",
     "output_type": "stream",
     "text": [
      "Epoch 1/10\n",
      "\u001b[1m452/452\u001b[0m \u001b[32m━━━━━━━━━━━━━━━━━━━━\u001b[0m\u001b[37m\u001b[0m \u001b[1m655s\u001b[0m 1s/step - accuracy: 0.1796 - loss: 2.6014 - val_accuracy: 0.2638 - val_loss: 2.2797\n",
      "Epoch 2/10\n",
      "\u001b[1m452/452\u001b[0m \u001b[32m━━━━━━━━━━━━━━━━━━━━\u001b[0m\u001b[37m\u001b[0m \u001b[1m598s\u001b[0m 1s/step - accuracy: 0.2716 - loss: 2.2161 - val_accuracy: 0.2942 - val_loss: 2.1232\n",
      "Epoch 3/10\n",
      "\u001b[1m452/452\u001b[0m \u001b[32m━━━━━━━━━━━━━━━━━━━━\u001b[0m\u001b[37m\u001b[0m \u001b[1m578s\u001b[0m 1s/step - accuracy: 0.3035 - loss: 2.0748 - val_accuracy: 0.3226 - val_loss: 2.0397\n",
      "Epoch 4/10\n",
      "\u001b[1m452/452\u001b[0m \u001b[32m━━━━━━━━━━━━━━━━━━━━\u001b[0m\u001b[37m\u001b[0m \u001b[1m656s\u001b[0m 1s/step - accuracy: 0.3420 - loss: 1.9973 - val_accuracy: 0.3474 - val_loss: 1.9685\n",
      "Epoch 5/10\n",
      "\u001b[1m452/452\u001b[0m \u001b[32m━━━━━━━━━━━━━━━━━━━━\u001b[0m\u001b[37m\u001b[0m \u001b[1m591s\u001b[0m 1s/step - accuracy: 0.3555 - loss: 1.9638 - val_accuracy: 0.3668 - val_loss: 1.9190\n",
      "Epoch 6/10\n",
      "\u001b[1m452/452\u001b[0m \u001b[32m━━━━━━━━━━━━━━━━━━━━\u001b[0m\u001b[37m\u001b[0m \u001b[1m569s\u001b[0m 1s/step - accuracy: 0.3735 - loss: 1.8853 - val_accuracy: 0.3423 - val_loss: 1.9386\n",
      "Epoch 7/10\n",
      "\u001b[1m452/452\u001b[0m \u001b[32m━━━━━━━━━━━━━━━━━━━━\u001b[0m\u001b[37m\u001b[0m \u001b[1m571s\u001b[0m 1s/step - accuracy: 0.3874 - loss: 1.8590 - val_accuracy: 0.3862 - val_loss: 1.8462\n",
      "Epoch 8/10\n",
      "\u001b[1m452/452\u001b[0m \u001b[32m━━━━━━━━━━━━━━━━━━━━\u001b[0m\u001b[37m\u001b[0m \u001b[1m623s\u001b[0m 1s/step - accuracy: 0.3847 - loss: 1.8406 - val_accuracy: 0.3868 - val_loss: 1.8483\n",
      "Epoch 9/10\n",
      "\u001b[1m452/452\u001b[0m \u001b[32m━━━━━━━━━━━━━━━━━━━━\u001b[0m\u001b[37m\u001b[0m \u001b[1m590s\u001b[0m 1s/step - accuracy: 0.4136 - loss: 1.7797 - val_accuracy: 0.3516 - val_loss: 1.9257\n",
      "Epoch 10/10\n",
      "\u001b[1m452/452\u001b[0m \u001b[32m━━━━━━━━━━━━━━━━━━━━\u001b[0m\u001b[37m\u001b[0m \u001b[1m646s\u001b[0m 1s/step - accuracy: 0.4034 - loss: 1.7980 - val_accuracy: 0.4049 - val_loss: 1.7884\n"
     ]
    }
   ],
   "source": [
    "#training the model with early stopping\n",
    "early_stopping = EarlyStopping(monitor = 'val_loss',patience = 3,restore_best_weights = True)\n",
    "\n",
    "history_resnet = resnet_model.fit(train_generators,validation_data = val_generators,epochs = 10 )"
   ]
  },
  {
   "cell_type": "code",
   "execution_count": 59,
   "metadata": {},
   "outputs": [],
   "source": [
    "with open('plant_resnet.pkl','wb') as file:\n",
    "    pkl.dump(resnet_model,file)"
   ]
  },
  {
   "cell_type": "code",
   "execution_count": 60,
   "metadata": {},
   "outputs": [],
   "source": [
    "with open('plant_resnet.pkl','rb') as file:\n",
    "    res = pkl.load(file)"
   ]
  },
  {
   "cell_type": "code",
   "execution_count": 61,
   "id": "0ab64f04",
   "metadata": {},
   "outputs": [
    {
     "name": "stdout",
     "output_type": "stream",
     "text": [
      "97/97 - 132s - 1s/step - accuracy: 0.3883 - loss: 1.7838\n"
     ]
    }
   ],
   "source": [
    "test_loss,test_accuracy = res.evaluate(test_generators,verbose = 2)"
   ]
  },
  {
   "cell_type": "code",
   "execution_count": null,
   "id": "e181c952",
   "metadata": {},
   "outputs": [],
   "source": [
    "'''\n",
    "Training accuracy is  0.4034 and testing accuracy is 0.3883\n",
    "Training loss is  1.7980 and Testing loss is 1.7838\n",
    "The model is underperforming, as both training accuracy (0.4034) and \n",
    "testing accuracy (0.3883) are low, with only a slight difference in loss values.\n",
    "'''"
   ]
  },
  {
   "cell_type": "code",
   "execution_count": 64,
   "id": "7c1d3e11",
   "metadata": {},
   "outputs": [
    {
     "data": {
      "image/png": "[encoded data removed]",
      "text/plain": [
       "<Figure size 1200x400 with 2 Axes>"
      ]
     },
     "metadata": {},
     "output_type": "display_data"
    }
   ],
   "source": [
    "#ploting\n",
    "plt.figure(figsize = (12,4))\n",
    "\n",
    "#accuracy\n",
    "plt.subplot(1,2,1)\n",
    "plt.plot(history_resnet.history['accuracy'],label = 'accuracy')\n",
    "plt.plot(history_resnet.history['val_accuracy'],label = 'val_accuracy')\n",
    "plt.title('Accuracy')\n",
    "plt.xlabel('Epochs')\n",
    "plt.ylabel('Accuracy')\n",
    "plt.legend(loc = 'lower right')\n",
    "\n",
    "#loss plot\n",
    "plt.subplot(1,2,2)\n",
    "plt.plot(history_resnet.history['loss'],label='loss')\n",
    "plt.plot(history_resnet.history['val_loss'],label = 'loss')\n",
    "plt.title('Loss')\n",
    "plt.xlabel('Epochs')\n",
    "plt.ylabel('Loss')\n",
    "plt.legend(loc = 'lower right')\n",
    "plt.show()"
   ]
  },
  {
   "cell_type": "code",
   "execution_count": 77,
   "id": "1a1e3a77",
   "metadata": {},
   "outputs": [],
   "source": [
    "#mobilenet without top layer\n",
    "mobile_net = MobileNet(weights = 'imagenet',include_top = False,input_shape = (150,150,3))\n",
    "\n",
    "#freezing the model\n",
    "mobile_net.trainable = False"
   ]
  },
  {
   "cell_type": "code",
   "execution_count": 78,
   "metadata": {},
   "outputs": [],
   "source": [
    "x = mobile_net.output\n",
    "x = GlobalAveragePooling2D()(x)\n",
    "x = Dense(128,activation = 'relu')(x)\n",
    "output = Dense(15,activation = 'softmax')(x)"
   ]
  },
  {
   "cell_type": "code",
   "execution_count": 79,
   "metadata": {},
   "outputs": [],
   "source": [
    "model_mn = Model(inputs = mobile_net.input,outputs = output)"
   ]
  },
  {
   "cell_type": "code",
   "execution_count": 80,
   "metadata": {},
   "outputs": [],
   "source": [
    "#compiling the  model\n",
    "model_mn.compile(optimizer = 'Adam',\n",
    "                 loss = 'categorical_crossentropy',\n",
    "                 metrics = ['accuracy'])"
   ]
  },
  {
   "cell_type": "code",
   "execution_count": 81,
   "metadata": {},
   "outputs": [],
   "source": [
    "#early stopping\n",
    "early_stopping = EarlyStopping(monitor = 'val_loss',patience = 3,restore_best_weights = True)"
   ]
  },
  {
   "cell_type": "code",
   "execution_count": 82,
   "id": "67b5b33b",
   "metadata": {},
   "outputs": [
    {
     "name": "stdout",
     "output_type": "stream",
     "text": [
      "Epoch 1/10\n",
      "\u001b[1m452/452\u001b[0m \u001b[32m━━━━━━━━━━━━━━━━━━━━\u001b[0m\u001b[37m\u001b[0m \u001b[1m129s\u001b[0m 283ms/step - accuracy: 0.6429 - loss: 1.1376 - val_accuracy: 0.8143 - val_loss: 0.5480\n",
      "Epoch 2/10\n",
      "\u001b[1m452/452\u001b[0m \u001b[32m━━━━━━━━━━━━━━━━━━━━\u001b[0m\u001b[37m\u001b[0m \u001b[1m152s\u001b[0m 337ms/step - accuracy: 0.8347 - loss: 0.4862 - val_accuracy: 0.8628 - val_loss: 0.4404\n",
      "Epoch 3/10\n",
      "\u001b[1m452/452\u001b[0m \u001b[32m━━━━━━━━━━━━━━━━━━━━\u001b[0m\u001b[37m\u001b[0m \u001b[1m157s\u001b[0m 347ms/step - accuracy: 0.8616 - loss: 0.3883 - val_accuracy: 0.8605 - val_loss: 0.4094\n",
      "Epoch 4/10\n",
      "\u001b[1m452/452\u001b[0m \u001b[32m━━━━━━━━━━━━━━━━━━━━\u001b[0m\u001b[37m\u001b[0m \u001b[1m208s\u001b[0m 461ms/step - accuracy: 0.8837 - loss: 0.3416 - val_accuracy: 0.8537 - val_loss: 0.4174\n",
      "Epoch 5/10\n",
      "\u001b[1m452/452\u001b[0m \u001b[32m━━━━━━━━━━━━━━━━━━━━\u001b[0m\u001b[37m\u001b[0m \u001b[1m172s\u001b[0m 379ms/step - accuracy: 0.8807 - loss: 0.3339 - val_accuracy: 0.8805 - val_loss: 0.3524\n",
      "Epoch 6/10\n",
      "\u001b[1m452/452\u001b[0m \u001b[32m━━━━━━━━━━━━━━━━━━━━\u001b[0m\u001b[37m\u001b[0m \u001b[1m163s\u001b[0m 360ms/step - accuracy: 0.8916 - loss: 0.3127 - val_accuracy: 0.8928 - val_loss: 0.3280\n",
      "Epoch 7/10\n",
      "\u001b[1m452/452\u001b[0m \u001b[32m━━━━━━━━━━━━━━━━━━━━\u001b[0m\u001b[37m\u001b[0m \u001b[1m197s\u001b[0m 436ms/step - accuracy: 0.9044 - loss: 0.2797 - val_accuracy: 0.8886 - val_loss: 0.3279\n",
      "Epoch 8/10\n",
      "\u001b[1m452/452\u001b[0m \u001b[32m━━━━━━━━━━━━━━━━━━━━\u001b[0m\u001b[37m\u001b[0m \u001b[1m200s\u001b[0m 443ms/step - accuracy: 0.9046 - loss: 0.2798 - val_accuracy: 0.8857 - val_loss: 0.3356\n",
      "Epoch 9/10\n",
      "\u001b[1m452/452\u001b[0m \u001b[32m━━━━━━━━━━━━━━━━━━━━\u001b[0m\u001b[37m\u001b[0m \u001b[1m231s\u001b[0m 512ms/step - accuracy: 0.9045 - loss: 0.2781 - val_accuracy: 0.8828 - val_loss: 0.3476\n",
      "Epoch 10/10\n",
      "\u001b[1m452/452\u001b[0m \u001b[32m━━━━━━━━━━━━━━━━━━━━\u001b[0m\u001b[37m\u001b[0m \u001b[1m196s\u001b[0m 434ms/step - accuracy: 0.9042 - loss: 0.2671 - val_accuracy: 0.8938 - val_loss: 0.3290\n"
     ]
    }
   ],
   "source": [
    "#training the model\n",
    "history_mn = model_mn.fit(\n",
    "    train_generators,\n",
    "    validation_data = val_generators,\n",
    "    batch_size = 32,\n",
    "    epochs = 10\n",
    ")"
   ]
  },
  {
   "cell_type": "code",
   "execution_count": 83,
   "metadata": {},
   "outputs": [],
   "source": [
    "with open('plant_mobile.pkl','wb') as file:\n",
    "    pkl.dump(model_mn,file)"
   ]
  },
  {
   "cell_type": "code",
   "execution_count": 84,
   "metadata": {},
   "outputs": [],
   "source": [
    "with open('plant_mobile.pkl','rb') as file:\n",
    "    mn = pkl.load(file)"
   ]
  },
  {
   "cell_type": "code",
   "execution_count": 85,
   "id": "ab37581a",
   "metadata": {},
   "outputs": [
    {
     "name": "stdout",
     "output_type": "stream",
     "text": [
      "\u001b[1m97/97\u001b[0m \u001b[32m━━━━━━━━━━━━━━━━━━━━\u001b[0m\u001b[37m\u001b[0m \u001b[1m34s\u001b[0m 343ms/step - accuracy: 0.8917 - loss: 0.3436\n"
     ]
    }
   ],
   "source": [
    "test = mn.evaluate(test_generators)"
   ]
  },
  {
   "cell_type": "code",
   "execution_count": null,
   "id": "17f10e23",
   "metadata": {},
   "outputs": [],
   "source": [
    "'''\n",
    "The model exhibits slight overfitting, as the training accuracy (0.9042) is higher than the testing accuracy (0.8917), \n",
    "and the training loss (0.2671) is lower than the testing loss (0.3436).s\n",
    "'''"
   ]
  },
  {
   "cell_type": "code",
   "execution_count": null,
   "id": "92fa4f53",
   "metadata": {},
   "outputs": [],
   "source": []
  }
 ],
 "metadata": {
  "kernelspec": {
   "display_name": "myds",
   "language": "python",
   "name": "python3"
  },
  "language_info": {
   "codemirror_mode": {
    "name": "ipython",
    "version": 3
   },
   "file_extension": ".py",
   "mimetype": "text/x-python",
   "name": "python",
   "nbconvert_exporter": "python",
   "pygments_lexer": "ipython3",
   "version": "3.10.16"
  }
 },
 "nbformat": 4,
 "nbformat_minor": 5
}
