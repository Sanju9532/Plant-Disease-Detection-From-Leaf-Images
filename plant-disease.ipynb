{
 "cells": [
  {
   "cell_type": "markdown",
   "id": "b5fc08d3",
   "metadata": {},
   "source": [
    "## Plant Disease Detection from Leaf Images"
   ]
  },
  {
   "cell_type": "code",
   "execution_count": null,
   "id": "17fdfee0",
   "metadata": {},
   "outputs": [],
   "source": [
    "#importing important libraries\n",
    "import os\n",
    "import shutil\n",
    "from sklearn.model_selection import train_test_split\n",
    "import warnings\n",
    "warnings.filterwarnings('ignore')"
   ]
  },
  {
   "cell_type": "code",
   "execution_count": 26,
   "id": "6f2cfb07",
   "metadata": {},
   "outputs": [],
   "source": [
    "#importing dataset\n",
    "data = \"C:/phonepay-project/PlantVillage\""
   ]
  },
  {
   "cell_type": "code",
   "execution_count": null,
   "id": "93c2cf89",
   "metadata": {},
   "outputs": [],
   "source": [
    "#the path to save the split datasets\n",
    "\n",
    "train_dir = \"C:/Users/megal/Downloads/sanju guvi/training\"\n",
    "test_dir = \"C:/Users/megal/Downloads/sanju guvi/testing\"\n",
    "val_dir = \"C:/Users/megal/Downloads/sanju guvi/validation\""
   ]
  },
  {
   "cell_type": "code",
   "execution_count": 28,
   "id": "1939de69",
   "metadata": {},
   "outputs": [],
   "source": [
    "#creating directories\n",
    "os.makedirs(train_dir,exist_ok = True)\n",
    "os.makedirs(test_dir,exist_ok = True)\n",
    "os.makedirs(val_dir,exist_ok = True)"
   ]
  },
  {
   "cell_type": "code",
   "execution_count": 31,
   "id": "038cbe53",
   "metadata": {},
   "outputs": [],
   "source": [
    "#loop through eqach class directory\n",
    "for class_name in os.listdir(data):\n",
    "    class_path = os.path.join(data,class_name)\n",
    "    if os.path.isdir(class_path):\n",
    "        #getting all images in the class directory\n",
    "        images = os.listdir(class_path)\n",
    "        #spliting the images into training, testing and validation sets\n",
    "        train_images,remaining_images = train_test_split(images,test_size = 0.3,random_state = 5)\n",
    "        validation_images,test_images = train_test_split(remaining_images,test_size = 0.5,random_state = 5)\n",
    "\n",
    "        #creating class directory in training,testing and validation directories\n",
    "        os.makedirs(os.path.join(train_dir,class_name),exist_ok = True)\n",
    "        os.makedirs(os.path.join(test_dir,class_name),exist_ok = True)\n",
    "        os.makedirs(os.path.join(val_dir,class_name),exist_ok = True)\n",
    "\n",
    "        #moving the images to the respective directories\n",
    "        for img in train_images:\n",
    "            shutil.copy(os.path.join(class_path,img),os.path.join(train_dir,class_name,img))\n",
    "        for img in test_images:\n",
    "            shutil.copy(os.path.join(class_path,img),os.path.join(test_dir,class_name,img))\n",
    "        for img in validation_images:\n",
    "            shutil.copy(os.path.join(class_path,img),os.path.join(val_dir,class_name,img))\n",
    "        "
   ]
  },
  {
   "cell_type": "code",
   "execution_count": null,
   "id": "ad701a1b",
   "metadata": {},
   "outputs": [],
   "source": []
  },
  {
   "cell_type": "code",
   "execution_count": null,
   "id": "8454b77f",
   "metadata": {},
   "outputs": [],
   "source": []
  },
  {
   "cell_type": "code",
   "execution_count": null,
   "id": "c92ada96",
   "metadata": {},
   "outputs": [],
   "source": []
  }
 ],
 "metadata": {
  "kernelspec": {
   "display_name": "myds",
   "language": "python",
   "name": "python3"
  },
  "language_info": {
   "codemirror_mode": {
    "name": "ipython",
    "version": 3
   },
   "file_extension": ".py",
   "mimetype": "text/x-python",
   "name": "python",
   "nbconvert_exporter": "python",
   "pygments_lexer": "ipython3",
   "version": "3.10.16"
  }
 },
 "nbformat": 4,
 "nbformat_minor": 5
}
